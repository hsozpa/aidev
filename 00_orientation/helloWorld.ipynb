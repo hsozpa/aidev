{
 "cells": [
  {
   "cell_type": "code",
   "execution_count": null,
   "id": "b75981bd",
   "metadata": {},
   "outputs": [
    {
     "ename": "",
     "evalue": "",
     "output_type": "error",
     "traceback": [
      "\u001b[1;31m'Python 3.12.10' でセルを実行するには、 ipykernel パッケージが必要です。\n",
      "\u001b[1;31m<a href='command:jupyter.createPythonEnvAndSelectController'>Python 環境の作成</a> および必要なパッケージ。\n",
      "\u001b[1;31mまたは、次のコマンドを使用して 'ipykernel' をインストールします: 'c:/Users/hsozp/AppData/Local/Programs/Python/Python312/python.exe -m pip install ipykernel -U --user --force-reinstall'"
     ]
    }
   ],
   "source": [
    "print(\"Hello! World!\")"
   ]
  }
 ],
 "metadata": {
  "kernelspec": {
   "display_name": "Python 3",
   "language": "python",
   "name": "python3"
  },
  "language_info": {
   "name": "python",
   "version": "3.12.10"
  }
 },
 "nbformat": 4,
 "nbformat_minor": 5
}
