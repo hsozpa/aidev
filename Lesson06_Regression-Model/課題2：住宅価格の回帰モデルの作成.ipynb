{
  "cells": [
    {
      "cell_type": "markdown",
      "metadata": {
        "id": "b1YULAq-b46_"
      },
      "source": [
        "# 課題2：住宅価格の回帰モデルの作成\n",
        "\n",
        "本課題では課題1と同じデータを用いてデータ分析の流れを確認します。各セルに入っているコメントの下に、実行するコードを記入してください。わからない場合は、ここまでのレッスン内容や各種ライブラリの公式ドキュメントを参照しましょう。"
      ]
    },
    {
      "cell_type": "markdown",
      "metadata": {
        "id": "xxZo7AnkcH76"
      },
      "source": [
        "## 1. 必要なライブラリの読み込み"
      ]
    },
    {
      "cell_type": "code",
      "execution_count": 1,
      "metadata": {
        "id": "7VA-1KsTbwGQ"
      },
      "outputs": [],
      "source": [
        "# 必要なライブラリの読み込み（変更しないでください）\n",
        "import matplotlib.pyplot as plt\n",
        "import numpy as np\n",
        "import pandas as pd\n",
        "\n",
        "from sklearn.linear_model import LinearRegression\n",
        "from sklearn.tree import DecisionTreeRegressor\n",
        "from sklearn.ensemble import RandomForestRegressor\n",
        "\n",
        "from sklearn.model_selection import train_test_split\n",
        "from sklearn.metrics import mean_squared_error"
      ]
    },
    {
      "cell_type": "markdown",
      "metadata": {
        "id": "iBBe41O_cUPn"
      },
      "source": [
        "## 2. データの読み込み\n",
        "\n",
        "CSVファイル *iowa_ames_housing_price.csv* を読み込み、内容を確認します。"
      ]
    },
    {
      "cell_type": "code",
      "execution_count": 2,
      "metadata": {
        "id": "YNWdzlmtcocO"
      },
      "outputs": [],
      "source": [
        "# データを変数datasetに読み込む\n",
        "dataset = pd.read_csv(\"./iowa_ames_housing_price.csv\")"
      ]
    },
    {
      "cell_type": "code",
      "execution_count": 3,
      "metadata": {
        "id": "zUBOA0cucs4W"
      },
      "outputs": [
        {
          "data": {
            "text/html": [
              "<div>\n",
              "<style scoped>\n",
              "    .dataframe tbody tr th:only-of-type {\n",
              "        vertical-align: middle;\n",
              "    }\n",
              "\n",
              "    .dataframe tbody tr th {\n",
              "        vertical-align: top;\n",
              "    }\n",
              "\n",
              "    .dataframe thead th {\n",
              "        text-align: right;\n",
              "    }\n",
              "</style>\n",
              "<table border=\"1\" class=\"dataframe\">\n",
              "  <thead>\n",
              "    <tr style=\"text-align: right;\">\n",
              "      <th></th>\n",
              "      <th>Order</th>\n",
              "      <th>area</th>\n",
              "      <th>price</th>\n",
              "      <th>MSSubClass</th>\n",
              "      <th>MSZoning</th>\n",
              "      <th>LotFrontage</th>\n",
              "      <th>LotArea</th>\n",
              "      <th>Street</th>\n",
              "      <th>Alley</th>\n",
              "      <th>LotShape</th>\n",
              "      <th>...</th>\n",
              "      <th>ScreenPorch</th>\n",
              "      <th>PoolArea</th>\n",
              "      <th>PoolQC</th>\n",
              "      <th>Fence</th>\n",
              "      <th>MiscFeature</th>\n",
              "      <th>MiscVal</th>\n",
              "      <th>MoSold</th>\n",
              "      <th>YrSold</th>\n",
              "      <th>SaleType</th>\n",
              "      <th>SaleCondition</th>\n",
              "    </tr>\n",
              "  </thead>\n",
              "  <tbody>\n",
              "    <tr>\n",
              "      <th>0</th>\n",
              "      <td>1</td>\n",
              "      <td>1710</td>\n",
              "      <td>208500</td>\n",
              "      <td>60</td>\n",
              "      <td>RL</td>\n",
              "      <td>65.0</td>\n",
              "      <td>8450</td>\n",
              "      <td>Pave</td>\n",
              "      <td>NaN</td>\n",
              "      <td>Reg</td>\n",
              "      <td>...</td>\n",
              "      <td>0</td>\n",
              "      <td>0</td>\n",
              "      <td>NaN</td>\n",
              "      <td>NaN</td>\n",
              "      <td>NaN</td>\n",
              "      <td>0</td>\n",
              "      <td>2</td>\n",
              "      <td>2008</td>\n",
              "      <td>WD</td>\n",
              "      <td>Normal</td>\n",
              "    </tr>\n",
              "    <tr>\n",
              "      <th>1</th>\n",
              "      <td>2</td>\n",
              "      <td>1262</td>\n",
              "      <td>181500</td>\n",
              "      <td>20</td>\n",
              "      <td>RL</td>\n",
              "      <td>80.0</td>\n",
              "      <td>9600</td>\n",
              "      <td>Pave</td>\n",
              "      <td>NaN</td>\n",
              "      <td>Reg</td>\n",
              "      <td>...</td>\n",
              "      <td>0</td>\n",
              "      <td>0</td>\n",
              "      <td>NaN</td>\n",
              "      <td>NaN</td>\n",
              "      <td>NaN</td>\n",
              "      <td>0</td>\n",
              "      <td>5</td>\n",
              "      <td>2007</td>\n",
              "      <td>WD</td>\n",
              "      <td>Normal</td>\n",
              "    </tr>\n",
              "    <tr>\n",
              "      <th>2</th>\n",
              "      <td>3</td>\n",
              "      <td>1786</td>\n",
              "      <td>223500</td>\n",
              "      <td>60</td>\n",
              "      <td>RL</td>\n",
              "      <td>68.0</td>\n",
              "      <td>11250</td>\n",
              "      <td>Pave</td>\n",
              "      <td>NaN</td>\n",
              "      <td>IR1</td>\n",
              "      <td>...</td>\n",
              "      <td>0</td>\n",
              "      <td>0</td>\n",
              "      <td>NaN</td>\n",
              "      <td>NaN</td>\n",
              "      <td>NaN</td>\n",
              "      <td>0</td>\n",
              "      <td>9</td>\n",
              "      <td>2008</td>\n",
              "      <td>WD</td>\n",
              "      <td>Normal</td>\n",
              "    </tr>\n",
              "    <tr>\n",
              "      <th>3</th>\n",
              "      <td>4</td>\n",
              "      <td>1717</td>\n",
              "      <td>140000</td>\n",
              "      <td>70</td>\n",
              "      <td>RL</td>\n",
              "      <td>60.0</td>\n",
              "      <td>9550</td>\n",
              "      <td>Pave</td>\n",
              "      <td>NaN</td>\n",
              "      <td>IR1</td>\n",
              "      <td>...</td>\n",
              "      <td>0</td>\n",
              "      <td>0</td>\n",
              "      <td>NaN</td>\n",
              "      <td>NaN</td>\n",
              "      <td>NaN</td>\n",
              "      <td>0</td>\n",
              "      <td>2</td>\n",
              "      <td>2006</td>\n",
              "      <td>WD</td>\n",
              "      <td>Abnorml</td>\n",
              "    </tr>\n",
              "    <tr>\n",
              "      <th>4</th>\n",
              "      <td>5</td>\n",
              "      <td>2198</td>\n",
              "      <td>250000</td>\n",
              "      <td>60</td>\n",
              "      <td>RL</td>\n",
              "      <td>84.0</td>\n",
              "      <td>14260</td>\n",
              "      <td>Pave</td>\n",
              "      <td>NaN</td>\n",
              "      <td>IR1</td>\n",
              "      <td>...</td>\n",
              "      <td>0</td>\n",
              "      <td>0</td>\n",
              "      <td>NaN</td>\n",
              "      <td>NaN</td>\n",
              "      <td>NaN</td>\n",
              "      <td>0</td>\n",
              "      <td>12</td>\n",
              "      <td>2008</td>\n",
              "      <td>WD</td>\n",
              "      <td>Normal</td>\n",
              "    </tr>\n",
              "  </tbody>\n",
              "</table>\n",
              "<p>5 rows × 81 columns</p>\n",
              "</div>"
            ],
            "text/plain": [
              "   Order  area   price  MSSubClass MSZoning  LotFrontage  LotArea Street  \\\n",
              "0      1  1710  208500          60       RL         65.0     8450   Pave   \n",
              "1      2  1262  181500          20       RL         80.0     9600   Pave   \n",
              "2      3  1786  223500          60       RL         68.0    11250   Pave   \n",
              "3      4  1717  140000          70       RL         60.0     9550   Pave   \n",
              "4      5  2198  250000          60       RL         84.0    14260   Pave   \n",
              "\n",
              "  Alley LotShape  ... ScreenPorch PoolArea PoolQC Fence MiscFeature MiscVal  \\\n",
              "0   NaN      Reg  ...           0        0    NaN   NaN         NaN       0   \n",
              "1   NaN      Reg  ...           0        0    NaN   NaN         NaN       0   \n",
              "2   NaN      IR1  ...           0        0    NaN   NaN         NaN       0   \n",
              "3   NaN      IR1  ...           0        0    NaN   NaN         NaN       0   \n",
              "4   NaN      IR1  ...           0        0    NaN   NaN         NaN       0   \n",
              "\n",
              "  MoSold YrSold SaleType  SaleCondition  \n",
              "0      2   2008       WD         Normal  \n",
              "1      5   2007       WD         Normal  \n",
              "2      9   2008       WD         Normal  \n",
              "3      2   2006       WD        Abnorml  \n",
              "4     12   2008       WD         Normal  \n",
              "\n",
              "[5 rows x 81 columns]"
            ]
          },
          "execution_count": 3,
          "metadata": {},
          "output_type": "execute_result"
        }
      ],
      "source": [
        "# データの最初の5行を表示\n",
        "dataset.head()\n"
      ]
    },
    {
      "cell_type": "markdown",
      "metadata": {
        "id": "Yw_tTBtJcz2Y"
      },
      "source": [
        "## 3. 目的変数と説明変数の選択\n",
        "\n",
        "ここでは、以下の列を使用します。\n",
        "\n",
        "- 目的変数： `price`\n",
        "- 説明変数： `OverallQual`, `area`, `X2ndFlrSF`, `BsmtFinSF1`,  `OverallCond`"
      ]
    },
    {
      "cell_type": "code",
      "execution_count": 4,
      "metadata": {
        "id": "hiMVKi3wcumE"
      },
      "outputs": [],
      "source": [
        "# 目的変数の列名（変更しないでください）\n",
        "target_col = 'price'\n",
        "\n",
        "# 説明変数の列名（変更しないでください）\n",
        "feature_cols = ['OverallQual', 'area', 'X2ndFlrSF', 'BsmtFinSF1', 'OverallCond']"
      ]
    },
    {
      "cell_type": "code",
      "execution_count": 5,
      "metadata": {
        "id": "iPFgNgq6d7M8"
      },
      "outputs": [],
      "source": [
        "# target_col と feature_cols を使用して dataset より目的変数と説明変数に該当する列を取得し、\n",
        "# numpy 配列に変換したものを変数 Y と X に格納する\n",
        "\n",
        "# Y:目的変数に該当する列\n",
        "Y = np.array(dataset[target_col])\n",
        "\n",
        "# X:説明変数に該当する列\n",
        "X = np.array(dataset[feature_cols]) \n"
      ]
    },
    {
      "cell_type": "markdown",
      "metadata": {
        "id": "kFb9kNkyeVYX"
      },
      "source": [
        "## 4. データの分割\n",
        "\n",
        "この課題では、ホールドアウト法でデータを分割します。"
      ]
    },
    {
      "cell_type": "code",
      "execution_count": 6,
      "metadata": {
        "id": "26cMzaEreWCL"
      },
      "outputs": [],
      "source": [
        "# X と Y を 機械学習用データとテストデータに7:3で分ける(X_train, X_test, Y_train, Y_test)\n",
        "X_train, X_test, Y_train, Y_test = train_test_split(X, Y, test_size=0.3, random_state=0)"
      ]
    },
    {
      "cell_type": "code",
      "execution_count": 7,
      "metadata": {
        "id": "-HKMiuIXejNE"
      },
      "outputs": [],
      "source": [
        "# 機械学習用データを、学習データと検証データに7:3で分ける(X_train, X_valid, Y_train, Y_valid)\n",
        "X_train, X_valid, Y_train, Y_valid = train_test_split(X_train, Y_train, test_size=0.3, random_state=0)"
      ]
    },
    {
      "cell_type": "markdown",
      "metadata": {
        "id": "f4HGf4VTen9x"
      },
      "source": [
        "## 5. モデルの作成から評価まで\n",
        "\n",
        "線形回帰モデルと、回帰木、ランダムフォレストの3つのモデルを作成して比較します。それぞれのモデルで以下を行います。\n",
        "- モデルの作成\n",
        "- 学習データによる学習\n",
        "- 検証データによる予測\n",
        "- MSEの算出"
      ]
    },
    {
      "cell_type": "code",
      "execution_count": 8,
      "metadata": {
        "id": "i0-F4hTpeqL5"
      },
      "outputs": [
        {
          "name": "stdout",
          "output_type": "stream",
          "text": [
            "MSE(線形回帰モデル): 1670916761.2011988\n"
          ]
        }
      ],
      "source": [
        "# 線形回帰モデルを作成し、学習・予測を実施して、MSEを算出する\n",
        "linear_model = LinearRegression()\n",
        "linear_model.fit(X_train, Y_train)\n",
        "Y_pred = linear_model.predict(X_valid)\n",
        "\n",
        "linear_model_mse = mean_squared_error(Y_valid, Y_pred)\n",
        "print('MSE(線形回帰モデル):', linear_model_mse)"
      ]
    },
    {
      "cell_type": "code",
      "execution_count": 9,
      "metadata": {
        "id": "-6aw688kfvbF"
      },
      "outputs": [
        {
          "name": "stdout",
          "output_type": "stream",
          "text": [
            "MSE(回帰木): 2872890370.211726\n"
          ]
        }
      ],
      "source": [
        "# 回帰木のモデルを作成し、学習・予測を実施して、MSEを算出する\n",
        "tree_model = DecisionTreeRegressor()\n",
        "tree_model.fit(X_train, Y_train)\n",
        "Y_pred = tree_model.predict(X_valid)\n",
        "\n",
        "tree_model_mse = mean_squared_error(Y_valid, Y_pred)\n",
        "print('MSE(回帰木):', tree_model_mse)\n"
      ]
    },
    {
      "cell_type": "code",
      "execution_count": 10,
      "metadata": {
        "id": "UNRsa17wfz2Z"
      },
      "outputs": [
        {
          "name": "stdout",
          "output_type": "stream",
          "text": [
            "MSE(ランダムフォレスト): 1784879819.4065275\n"
          ]
        }
      ],
      "source": [
        "# ランダムフォレストのモデルを作成し、学習・予測を実施して、MSEを算出する\n",
        "randomforest_model = RandomForestRegressor(n_estimators=10, random_state=0)\n",
        "randomforest_model.fit(X_train, Y_train)\n",
        "Y_pred = randomforest_model.predict(X_valid)\n",
        "\n",
        "randomforest_model_mse = mean_squared_error(Y_valid, Y_pred)\n",
        "print('MSE(ランダムフォレスト):', randomforest_model_mse)"
      ]
    },
    {
      "cell_type": "markdown",
      "metadata": {
        "id": "VZfcs87vf9rE"
      },
      "source": [
        "## 6. テストデータによる汎化性能の確認\n",
        "\n",
        "3つの中でもっともMSEの値が良かったモデルについて、テストデータで汎化性能を確認しましょう。"
      ]
    },
    {
      "cell_type": "code",
      "execution_count": 11,
      "metadata": {
        "id": "m6KvmI0KgAk5"
      },
      "outputs": [
        {
          "name": "stdout",
          "output_type": "stream",
          "text": [
            "MSE(線形回帰モデル): 2309649258.544849\n"
          ]
        }
      ],
      "source": [
        "# テストデータを使って予測を行いMSEを算出\n",
        "Y_pred = linear_model.predict(X_test)\n",
        "linear_model_mse = mean_squared_error(Y_test, Y_pred)\n",
        "print('MSE(線形回帰モデル):', linear_model_mse)"
      ]
    },
    {
      "cell_type": "markdown",
      "metadata": {
        "id": "fxG6cyjPgJBa"
      },
      "source": [
        "## 7. グラフによる確認\n",
        "\n",
        "説明変数が多い場合、「説明変数で目的変数を正しく予測できているか」を可視化することは困難です。そこで「正解と予測値」とを比較することで、予測の精度を可視化してみましょう。"
      ]
    },
    {
      "cell_type": "markdown",
      "metadata": {
        "id": "1jRX4XcVgNVf"
      },
      "source": [
        "### 散布図による可視化\n",
        "\n",
        "X軸(横方向)に `テストデータの正解の値` 、Y軸(縦方向)に `予測値` を使って散布図を作成してみましょう。全体的に右肩上がりで、直線上にデータが並んでいれば、予測が行なえていると判断できます。"
      ]
    },
    {
      "cell_type": "code",
      "execution_count": 12,
      "metadata": {
        "id": "bQjrqnRtgMvW"
      },
      "outputs": [
        {
          "data": {
            "image/png": "[encoded data removed]",
            "text/plain": [
              "<Figure size 640x480 with 1 Axes>"
            ]
          },
          "metadata": {},
          "output_type": "display_data"
        }
      ],
      "source": [
        "# X軸:正解の値、Y軸:予測値で散布図を作成\n",
        "\n",
        "import japanize_matplotlib\n",
        "\n",
        "plt.scatter(Y_test, Y_pred, color=\"blue\")\n",
        "plt.xlabel(\"テストデータの正解の値\")\n",
        "plt.ylabel(\"予測値\")\n",
        "\n",
        "plt.show()"
      ]
    },
    {
      "cell_type": "markdown",
      "metadata": {
        "id": "jTex8uTgl-D-"
      },
      "source": [
        "### ヒストグラムによる可視化\n",
        "\n",
        "「誤差率＝正解の値と予測値との差の割合」をヒストグラムで確認してみましょう。誤差率は以下で計算できます。\n",
        "\n",
        "`（正解の値－予測値）/ 正解の値`\n",
        "\n",
        "併せて、誤差率の平均値、標準偏差も出力しましょう。平均値は `numpy` の `mean` 関数、標準偏差は `std` 関数で取得できます。\n",
        "\n",
        "なお、ヒストグラムを描く際は`matplotlib.pyplot`の`hist`関数が使えます。matplotlib.pyplotはpltという名前をつけているはずなので、ヒストグラム化したいデータを`plt.hist()`の引数に渡すことでヒストグラムを描画できます。"
      ]
    },
    {
      "cell_type": "code",
      "execution_count": 25,
      "metadata": {
        "id": "95JnIQ9LgjJA"
      },
      "outputs": [
        {
          "data": {
            "image/png": "[encoded data removed]",
            "text/plain": [
              "<Figure size 640x480 with 1 Axes>"
            ]
          },
          "metadata": {},
          "output_type": "display_data"
        },
        {
          "name": "stdout",
          "output_type": "stream",
          "text": [
            "平均値: -0.01642158519597019\n",
            "標準偏差: 0.2977452086965233\n"
          ]
        }
      ],
      "source": [
        "# 実際の成約価格と予測価格の誤差率をヒストグラムで表示\n",
        "error_rate = (Y_test - Y_pred) / Y_test\n",
        "\n",
        "plt.hist(error_rate, bins=50, color=\"blue\")\n",
        "plt.xlabel(\"誤差率\")\n",
        "plt.ylabel(\"データ数\")\n",
        "plt.show()\n",
        "\n",
        "\n",
        "# 平均値\n",
        "print(\"平均値:\", np.mean(error_rate))\n",
        "\n",
        "\n",
        "# 標準偏差\n",
        "print(\"標準偏差:\", np.std(error_rate))\n"
      ]
    }
  ],
  "metadata": {
    "colab": {
      "provenance": []
    },
    "kernelspec": {
      "display_name": ".venv",
      "language": "python",
      "name": "python3"
    },
    "language_info": {
      "codemirror_mode": {
        "name": "ipython",
        "version": 3
      },
      "file_extension": ".py",
      "mimetype": "text/x-python",
      "name": "python",
      "nbconvert_exporter": "python",
      "pygments_lexer": "ipython3",
      "version": "3.12.10"
    }
  },
  "nbformat": 4,
  "nbformat_minor": 0
}
