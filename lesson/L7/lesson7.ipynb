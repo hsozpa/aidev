{
 "cells": [
  {
   "cell_type": "markdown",
   "id": "5e469c42",
   "metadata": {},
   "source": [
    "# 分類モデルを使ってみよう"
   ]
  },
  {
   "cell_type": "code",
   "execution_count": 2,
   "id": "3e8051ca",
   "metadata": {},
   "outputs": [],
   "source": [
    "# 必要なライブラリのimport\n",
    "import numpy as np\n",
    "import matplotlib.pyplot as plt\n",
    "import seaborn as sns\n",
    "import pandas as pd\n",
    "\n",
    "# DataFrameで全ての列を表示する設定\n",
    "pd.options.display.max_columns = None\n",
    "\n",
    "\n",
    "# seabornの装飾を適用する\n",
    "sns.set_theme()"
   ]
  },
  {
   "cell_type": "markdown",
   "id": "1077d020",
   "metadata": {},
   "source": []
  },
  {
   "cell_type": "code",
   "execution_count": 3,
   "id": "b619c94c",
   "metadata": {},
   "outputs": [],
   "source": [
    "# Irisのデータセットの読み込み\n"
   ]
  }
 ],
 "metadata": {
  "kernelspec": {
   "display_name": ".venv",
   "language": "python",
   "name": "python3"
  },
  "language_info": {
   "codemirror_mode": {
    "name": "ipython",
    "version": 3
   },
   "file_extension": ".py",
   "mimetype": "text/x-python",
   "name": "python",
   "nbconvert_exporter": "python",
   "pygments_lexer": "ipython3",
   "version": "3.12.10"
  }
 },
 "nbformat": 4,
 "nbformat_minor": 5
}
